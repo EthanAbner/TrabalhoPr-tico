{
  "nbformat": 4,
  "nbformat_minor": 0,
  "metadata": {
    "colab": {
      "provenance": []
    },
    "kernelspec": {
      "name": "python3",
      "display_name": "Python 3"
    },
    "language_info": {
      "name": "python"
    }
  },
  "cells": [
    {
      "cell_type": "markdown",
      "source": [
        "# Data de entrega: 20/06/2024\n",
        "**Trabalho II – Entrega individual.**\n",
        "\n",
        "* O GridSearchCV é uma ferramenta usada para automatizar o processo de ajuste dos parâmetros de um algoritmo, pois ele fará de maneira sistemática diversas combinações dos parâmetros e depois de avaliá-los os armazenará num único objeto.\n",
        "\n",
        "* No Trabalho prático II, você deverá realizar uma avaliação de uma base de dados, usando o modelo de ajustes de parâmetros GridSearchCV com StratifiedKFolds.\n",
        "\n",
        "* A escolha da base de dados, técnica de classificação, parâmetros testados, números de folds, deverá ser uma decisão tomada e justificada.\n",
        "\n",
        "* A entrega será dois arquivos, a serem submetidos pelo Moodle. O primeiro arquivo será na extensão “ipynb”, contendo as fontes do código testado, e o segundo arquivo (formato .pdf), será um relatório contendo no máximo duas páginas, apresentando a descrição do que foi realizado, base de dados, classificador, parâmetros testados, análise e conclusão.\n",
        "\n",
        "* *Abaixo, segue um exemplo com detalhes do uso do GridSearchCV, bem como exemplos didáticos.*"
      ],
      "metadata": {
        "id": "wvhhsgzc23JW"
      }
    },
    {
      "cell_type": "code",
      "execution_count": null,
      "metadata": {
        "id": "5JNaehY_ytfR"
      },
      "outputs": [],
      "source": [
        "from sklearn import datasets\n",
        "import pandas as pd\n",
        "\n",
        "# Dados de Câncer de mama.\n",
        "cancer = datasets.load_breast_cancer()\n",
        "\n",
        "# Criação do dataset features e vetor labels.\n",
        "features = cancer.data\n",
        "labels = cancer.target"
      ]
    },
    {
      "cell_type": "code",
      "source": [
        "# Importação do AdaBoost.\n",
        "from sklearn.ensemble import AdaBoostClassifier\n",
        "\n",
        "# Uso do constructor do AdaBoost para criar um classifier.\n",
        "clf = AdaBoostClassifier() # Sem nada dentro, pois vamos \"variar\" os parâmetros."
      ],
      "metadata": {
        "id": "D25C_h1YzV5J"
      },
      "execution_count": null,
      "outputs": []
    },
    {
      "cell_type": "code",
      "source": [
        "# Exemplo dos parâmetros que quero testar.\n",
        "parametros = {'n_estimators':[1, 5, 10],\n",
        "              'learning_rate':[0.1, 1, 2]}"
      ],
      "metadata": {
        "id": "y0I1G8z2zaG3"
      },
      "execution_count": null,
      "outputs": []
    },
    {
      "cell_type": "code",
      "source": [
        "# Criação do objeto do GridSearchCV.\n",
        "from sklearn.model_selection import GridSearchCV\n",
        "grid = GridSearchCV(estimator = clf,\n",
        "                    param_grid = parametros,\n",
        "                    scoring = 'accuracy',\n",
        "                    cv = 20)"
      ],
      "metadata": {
        "id": "nQ1aJ1x3zk3K"
      },
      "execution_count": null,
      "outputs": []
    },
    {
      "cell_type": "code",
      "source": [
        "# Treinando o grid.\n",
        "grid.fit(features, labels)\n",
        "\n",
        "# Imprimindo os resultados.\n",
        "pd.DataFrame(grid.cv_results_)\n",
        "\n"
      ],
      "metadata": {
        "id": "xlN0aiOZzsfG"
      },
      "execution_count": null,
      "outputs": []
    },
    {
      "cell_type": "code",
      "source": [
        "#Após a criação do objeto do GridSearchCV, pode-se treinar e imprimir os resultados.\n",
        "#Há muitas colunas nesse resultado, então vamos fazer um subset escolhendo as colunas de interesse.\n",
        "pd.DataFrame(grid.cv_results_)[['params','rank_test_score','mean_test_score']]"
      ],
      "metadata": {
        "id": "F5qXun3r0HJR"
      },
      "execution_count": null,
      "outputs": []
    },
    {
      "cell_type": "code",
      "source": [
        "#Conforme a tabela acima, o melhor resultado de accuracy é produzido pelos parâmetros {'learning_rate': 1, 'n_estimators': 10}.\n",
        "#O atributo .best_params_ pode ser usado também para obter os melhores parâmetros.\n",
        "# Imprime os parâmetros que produziram o \".best_score_\".\n",
        "grid.best_params_"
      ],
      "metadata": {
        "id": "VwwsnNHz0OEk",
        "colab": {
          "base_uri": "https://localhost:8080/"
        },
        "outputId": "292094ae-4ea6-4a8b-87ec-3d02cda5025e"
      },
      "execution_count": null,
      "outputs": [
        {
          "output_type": "execute_result",
          "data": {
            "text/plain": [
              "{'learning_rate': 1, 'n_estimators': 10}"
            ]
          },
          "metadata": {},
          "execution_count": 8
        }
      ]
    },
    {
      "cell_type": "code",
      "source": [
        "# Imprimindo o score.\n",
        "grid.best_score_"
      ],
      "metadata": {
        "id": "LxHdeHFZ0VP0",
        "colab": {
          "base_uri": "https://localhost:8080/"
        },
        "outputId": "0426de2b-1730-45a4-cbc2-f97e9142ff0f"
      },
      "execution_count": null,
      "outputs": [
        {
          "output_type": "execute_result",
          "data": {
            "text/plain": [
              "0.9525862068965519"
            ]
          },
          "metadata": {},
          "execution_count": 9
        }
      ]
    },
    {
      "cell_type": "code",
      "source": [
        "# Exemplo para o uso do StratifiedKFolds com 5 folds.\n",
        "grid_2 = GridSearchCV(estimator = clf,\n",
        "                      param_grid = parametros,\n",
        "                      cv = 5,\n",
        "                      scoring = 'accuracy')\n",
        "\n",
        "# Imprime o f1\n",
        "grid_2.fit(features,labels).best_score_"
      ],
      "metadata": {
        "id": "Mzmld53n0shD",
        "colab": {
          "base_uri": "https://localhost:8080/"
        },
        "outputId": "907403e0-1173-4212-cf73-aa5e5ebc0e49"
      },
      "execution_count": null,
      "outputs": [
        {
          "output_type": "execute_result",
          "data": {
            "text/plain": [
              "0.9402421984163949"
            ]
          },
          "metadata": {},
          "execution_count": 13
        }
      ]
    },
    {
      "cell_type": "code",
      "source": [
        "#O cv também aceita a atribuição de um objeto do StratifiedShuffleSplit,\n",
        "#neste caso é necessário a definição da quantidade de n_splits e o tamanho do dataset de testes.\n",
        "\n",
        "# Exemplo para o uso do StratifiedShuffleSplit.\n",
        "\n",
        "# Importação do módulo do StratifiedShuffleSplit.\n",
        "from sklearn.model_selection import StratifiedShuffleSplit\n",
        "\n",
        "# Usando o constructor para criar o objeto sss\n",
        "sss = StratifiedShuffleSplit(n_splits = 20,       # 20 simulações.\n",
        "                             test_size = 0.2,     # 20% do dataset será de testes.\n",
        "                             random_state = 42)   # Permitir a reprodutibilidade.\n",
        "\n",
        "# Criando um objeto do GridSearchCV\n",
        "grid_3 = GridSearchCV(estimator = clf,\n",
        "                      param_grid = parametros,\n",
        "                      cv = sss,\n",
        "                      scoring = 'accuracy')\n",
        "\n",
        "# Imprime o f1\n",
        "grid_3.fit(features,labels).best_score_"
      ],
      "metadata": {
        "id": "t6FSx-I-01gr",
        "colab": {
          "base_uri": "https://localhost:8080/"
        },
        "outputId": "13c88210-bd39-405b-9b34-85c69909e3e9"
      },
      "execution_count": null,
      "outputs": [
        {
          "output_type": "execute_result",
          "data": {
            "text/plain": [
              "0.9469298245614034"
            ]
          },
          "metadata": {},
          "execution_count": 14
        }
      ]
    },
    {
      "cell_type": "code",
      "source": [
        "#Por fim, há a opção de não usar o cv do GridSearchCV, isto seria feito omitindo-o.\n",
        "# Exemplo do GridSearchCV sem cv. Demanda um cv manual.\n",
        "\n",
        "# Criando um objeto do GridSearchCV sem cv.\n",
        "grid_4 = GridSearchCV(estimator = clf,\n",
        "                      param_grid = parametros,\n",
        "                      scoring = 'accuracy')\n",
        "\n",
        "# Imprime o f1\n",
        "grid_4.fit(features,labels).best_score_"
      ],
      "metadata": {
        "id": "cWF3xjgo1BMy",
        "colab": {
          "base_uri": "https://localhost:8080/"
        },
        "outputId": "15a52268-2d7f-4d7f-ebbd-d0b20931ba92"
      },
      "execution_count": null,
      "outputs": [
        {
          "output_type": "execute_result",
          "data": {
            "text/plain": [
              "0.9402421984163949"
            ]
          },
          "metadata": {},
          "execution_count": 15
        }
      ]
    }
  ]
}